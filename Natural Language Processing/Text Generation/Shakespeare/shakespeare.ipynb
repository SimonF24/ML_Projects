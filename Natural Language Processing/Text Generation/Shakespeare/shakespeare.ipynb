{
 "cells": [
  {
   "cell_type": "markdown",
   "source": [
    "# Shakespeare ML"
   ],
   "metadata": {}
  },
  {
   "cell_type": "markdown",
   "source": [
    "This is a dataset consisting of the complete works of Shakespeare. This dataset was created by Andrej Karpathy for <a href='http://karpathy.github.io/2015/05/21/rnn-effectiveness/'>this</a> blog post and is available on <a href='https://github.com/karpathy/char-rnn/blob/master/data/tinyshakespeare/input.txt'>this</a> github page."
   ],
   "metadata": {}
  },
  {
   "cell_type": "markdown",
   "source": [
    "## Imports"
   ],
   "metadata": {}
  },
  {
   "cell_type": "code",
   "execution_count": 1,
   "source": [
    "import matplotlib.pyplot as plt\r\n",
    "import re\r\n",
    "import tensorflow as tf\r\n",
    "import tensorflow_datasets as tfds\r\n",
    "import textwrap"
   ],
   "outputs": [],
   "metadata": {}
  },
  {
   "cell_type": "markdown",
   "source": [
    "## Helper Functions"
   ],
   "metadata": {}
  },
  {
   "cell_type": "code",
   "execution_count": 25,
   "source": [
    "def plot_training_metrics(history):\r\n",
    "    plt.figure(facecolor=(1, 1, 1, 1), figsize=(12, 8)) # My notebook is in dark mode\r\n",
    "    plt.subplot(1, 2, 1)\r\n",
    "    plt.plot(history.history['sparse_categorical_accuracy'], label='Training Accuracy')\r\n",
    "    plt.plot(history.history['val_sparse_categorical_accuracy'], label='Validation Accuracy')\r\n",
    "    plt.xlabel('Epochs')\r\n",
    "    plt.ylabel('Accuracy')\r\n",
    "    plt.title('Accuracy')\r\n",
    "    plt.legend()\r\n",
    "    plt.subplot(1, 2, 2)\r\n",
    "    plt.plot(history.history['loss'], label='Training Loss')\r\n",
    "    plt.plot(history.history['val_loss'], label='Validation Loss')\r\n",
    "    plt.xlabel('Epochs')\r\n",
    "    plt.ylabel('Loss')\r\n",
    "    plt.title('Loss')\r\n",
    "    plt.suptitle('Model Training')\r\n",
    "    plt.legend()\r\n",
    "    plt.show()\r\n",
    "\r\n",
    "def save_best_model(model, test_ds, filename):\r\n",
    "    try:\r\n",
    "        saved_model = tf.keras.models.load_model(filename)\r\n",
    "    except:\r\n",
    "        saved_model = None\r\n",
    "\r\n",
    "    if saved_model:\r\n",
    "        print('Saved Model Evaluation:')\r\n",
    "        saved_model_metrics = saved_model.evaluate(test_ds, return_dict=True)\r\n",
    "        print('New Model Evaluation:')\r\n",
    "        new_model_metrics = model.evaluate(test_ds, return_dict=True)\r\n",
    "        if new_model_metrics['sparse_categorical_accuracy'] > saved_model_metrics['sparse_categorical_accuracy']:\r\n",
    "            model.save(filename, save_traces=False)\r\n",
    "    else:\r\n",
    "        model.save(filename, save_traces=False)"
   ],
   "outputs": [],
   "metadata": {}
  },
  {
   "cell_type": "markdown",
   "source": [
    "## Character Based Approach"
   ],
   "metadata": {}
  },
  {
   "cell_type": "markdown",
   "source": [
    "### Loading and Processing the Dataset"
   ],
   "metadata": {}
  },
  {
   "cell_type": "code",
   "execution_count": 45,
   "source": [
    "char_batch_size = 128\r\n",
    "char_sequence_length = 100\r\n",
    "\r\n",
    "AUTOTUNE = tf.data.AUTOTUNE\r\n",
    "\r\n",
    "test_ds, train_ds, validation_ds = tfds.load('tiny_shakespeare', split=['test', 'train', 'validation'])\r\n",
    "train_text = next(train_ds.as_numpy_iterator())['text'].decode()\r\n",
    "print('Train Dataset Preview:')\r\n",
    "print(textwrap.indent(train_text[:200], ' ' * 4))\r\n",
    "\r\n",
    "vocab = sorted(set(train_text))\r\n",
    "char_encoder = tf.keras.layers.experimental.preprocessing.StringLookup(\r\n",
    "    vocabulary=vocab\r\n",
    ")\r\n",
    "char_decoder = tf.keras.layers.experimental.preprocessing.StringLookup(\r\n",
    "    invert=True,\r\n",
    "    vocabulary=vocab\r\n",
    ")\r\n",
    "char_vocab_size = len(char_encoder.get_vocabulary())\r\n",
    "\r\n",
    "def process_ds(ds):\r\n",
    "    ds = ds.flat_map(lambda data: tf.data.Dataset.from_tensor_slices(char_encoder(tf.strings.unicode_split(data['text'], input_encoding='UTF-8'))))\r\n",
    "    ds = ds.window(char_sequence_length+1, drop_remainder=True, shift=1)\r\n",
    "    ds = ds.flat_map(lambda window: window.batch(char_sequence_length+1))\r\n",
    "    ds = ds.map(lambda sequence: (sequence[:-1], sequence[-1]), num_parallel_calls=AUTOTUNE)\r\n",
    "    ds = ds.batch(char_batch_size)\r\n",
    "    ds = ds.shuffle(1000)\r\n",
    "    ds = ds.prefetch(AUTOTUNE)\r\n",
    "    return ds\r\n",
    "\r\n",
    "char_test_ds = process_ds(test_ds)\r\n",
    "char_train_ds = process_ds(train_ds)\r\n",
    "char_validation_ds = process_ds(validation_ds)"
   ],
   "outputs": [
    {
     "output_type": "stream",
     "name": "stdout",
     "text": [
      "Train Dataset Preview:\n",
      "    First Citizen:\n",
      "    Before we proceed any further, hear me speak.\n",
      "\n",
      "    All:\n",
      "    Speak, speak.\n",
      "\n",
      "    First Citizen:\n",
      "    You are all resolved rather to die than to famish?\n",
      "\n",
      "    All:\n",
      "    Resolved. resolved.\n",
      "\n",
      "    First Citizen:\n",
      "    First, you\n"
     ]
    }
   ],
   "metadata": {}
  },
  {
   "cell_type": "markdown",
   "source": [
    "### Creating the Model"
   ],
   "metadata": {}
  },
  {
   "cell_type": "code",
   "execution_count": 49,
   "source": [
    "# Best Model (char_sequence_length=100)\r\n",
    "# char_model = tf.keras.Sequential([\r\n",
    "#     tf.keras.layers.Embedding(\r\n",
    "#         input_dim=char_vocab_size,\r\n",
    "#         output_dim=64\r\n",
    "#     ),\r\n",
    "#     tf.keras.layers.Bidirectional(tf.keras.layers.LSTM(128, return_sequences=True)),\r\n",
    "#     tf.keras.layers.Bidirectional(tf.keras.layers.LSTM(128)),\r\n",
    "#     tf.keras.layers.Dense(char_vocab_size)\r\n",
    "# ])\r\n",
    "\r\n",
    "char_model = tf.keras.Sequential([\r\n",
    "    tf.keras.layers.Embedding(\r\n",
    "        input_dim=char_vocab_size,\r\n",
    "        output_dim=64\r\n",
    "    ),\r\n",
    "    tf.keras.layers.Bidirectional(tf.keras.layers.LSTM(512)),\r\n",
    "    tf.keras.layers.Dense(char_vocab_size)\r\n",
    "])\r\n",
    "char_model.compile(\r\n",
    "    loss=tf.keras.losses.SparseCategoricalCrossentropy(from_logits=True),\r\n",
    "    metrics=[tf.keras.metrics.SparseCategoricalAccuracy()],\r\n",
    "    optimizer=tf.keras.optimizers.Adam()\r\n",
    ")"
   ],
   "outputs": [],
   "metadata": {}
  },
  {
   "cell_type": "markdown",
   "source": [
    "### Training the Model"
   ],
   "metadata": {}
  },
  {
   "cell_type": "code",
   "execution_count": 50,
   "source": [
    "early_stopping_callback = tf.keras.callbacks.EarlyStopping(\r\n",
    "    mode='max',\r\n",
    "    monitor='val_sparse_categorical_accuracy',\r\n",
    "    patience=3,\r\n",
    "    restore_best_weights=True\r\n",
    ")\r\n",
    "char_history = char_model.fit(\r\n",
    "    char_train_ds,\r\n",
    "    callbacks=[early_stopping_callback],\r\n",
    "    epochs=100,\r\n",
    "    validation_data=char_validation_ds\r\n",
    ")"
   ],
   "outputs": [
    {
     "output_type": "stream",
     "name": "stdout",
     "text": [
      "Epoch 1/100\n",
      "7842/7842 [==============================] - 861s 108ms/step - loss: 1.7087 - sparse_categorical_accuracy: 0.4974 - val_loss: 1.4893 - val_sparse_categorical_accuracy: 0.5558\n",
      "Epoch 2/100\n",
      "7842/7842 [==============================] - 859s 107ms/step - loss: 1.3470 - sparse_categorical_accuracy: 0.5869 - val_loss: 1.4135 - val_sparse_categorical_accuracy: 0.5740\n",
      "Epoch 3/100\n",
      "7842/7842 [==============================] - 865s 108ms/step - loss: 1.2622 - sparse_categorical_accuracy: 0.6085 - val_loss: 1.3875 - val_sparse_categorical_accuracy: 0.5813\n",
      "Epoch 4/100\n",
      "7842/7842 [==============================] - 882s 110ms/step - loss: 1.2135 - sparse_categorical_accuracy: 0.6207 - val_loss: 1.3965 - val_sparse_categorical_accuracy: 0.5816\n",
      "Epoch 5/100\n",
      "7842/7842 [==============================] - 879s 110ms/step - loss: 1.1885 - sparse_categorical_accuracy: 0.6275 - val_loss: 1.3957 - val_sparse_categorical_accuracy: 0.5842\n",
      "Epoch 6/100\n",
      "7842/7842 [==============================] - 877s 110ms/step - loss: 1.1683 - sparse_categorical_accuracy: 0.6330 - val_loss: 1.4214 - val_sparse_categorical_accuracy: 0.5821\n",
      "Epoch 7/100\n",
      "7842/7842 [==============================] - 875s 110ms/step - loss: 1.1506 - sparse_categorical_accuracy: 0.6379 - val_loss: 1.4258 - val_sparse_categorical_accuracy: 0.5836\n",
      "Epoch 8/100\n",
      "7842/7842 [==============================] - 875s 110ms/step - loss: 1.1323 - sparse_categorical_accuracy: 0.6427 - val_loss: 1.4277 - val_sparse_categorical_accuracy: 0.5803\n"
     ]
    }
   ],
   "metadata": {}
  },
  {
   "cell_type": "markdown",
   "source": [
    "### Plotting Training Metrics and Saving the Best Model"
   ],
   "metadata": {}
  },
  {
   "cell_type": "code",
   "execution_count": 51,
   "source": [
    "plot_training_metrics(char_history)\r\n",
    "save_best_model(char_model, char_test_ds, 'Character_LSTM')"
   ],
   "outputs": [
    {
     "output_type": "display_data",
     "data": {
      "text/plain": [
       "<Figure size 864x576 with 2 Axes>"
      ],
      "image/png": "[encoded data removed]"
     },
     "metadata": {}
    },
    {
     "output_type": "stream",
     "name": "stdout",
     "text": [
      "Saved Model Evaluation:\n",
      "435/435 [==============================] - 15s 18ms/step - loss: 1.6201 - sparse_categorical_accuracy: 0.5416\n",
      "New Model Evaluation:\n",
      "435/435 [==============================] - 24s 41ms/step - loss: 1.5901 - sparse_categorical_accuracy: 0.5497\n",
      "INFO:tensorflow:Assets written to: CharacterLSTM\\assets\n"
     ]
    },
    {
     "output_type": "stream",
     "name": "stderr",
     "text": [
      "INFO:tensorflow:Assets written to: CharacterLSTM\\assets\n"
     ]
    }
   ],
   "metadata": {}
  },
  {
   "cell_type": "markdown",
   "source": [
    "### Generating Text with the Best Model"
   ],
   "metadata": {}
  },
  {
   "cell_type": "code",
   "execution_count": 52,
   "source": [
    "length_to_generate = 2000\r\n",
    "starting_string = 'And then'\r\n",
    "\r\n",
    "best_model = tf.keras.models.load_model('Character_LSTM')\r\n",
    "generated_text = starting_string\r\n",
    "for i in range(length_to_generate):\r\n",
    "    if len(generated_text) > char_sequence_length:\r\n",
    "        prediction_string = generated_text[-char_sequence_length:]\r\n",
    "    else:\r\n",
    "        prediction_string = generated_text\r\n",
    "    prediction_ids = tf.transpose(tf.expand_dims(char_encoder(list(prediction_string)), axis=1))\r\n",
    "    predicted_logits = best_model(prediction_ids)\r\n",
    "    predicted_index = tf.random.categorical(predicted_logits, num_samples=1)\r\n",
    "    generated_text += char_decoder(predicted_index).numpy()[0][0].decode()\r\n",
    "\r\n",
    "print('Generated Text:')\r\n",
    "print(generated_text)"
   ],
   "outputs": [
    {
     "output_type": "stream",
     "name": "stdout",
     "text": [
      "Generated Text:\n",
      "And then; I would be not she\n",
      "As mortalsy which: what's your honour's son?\n",
      "\n",
      "DUKE VINCENTIO:\n",
      "Was you been scope to be set we pardles their\n",
      "bitters, noble lunation. I go believe me,\n",
      "how met this grand that it shall have any unfurced'd my lord,\n",
      "Wood of the duke's lord as your patience!\n",
      "Give me the boys such sorrow much sent and gore;\n",
      "We'll palt the bormed of fresh report,\n",
      "Wicks, rings in a courtier's peace:\n",
      "Nor much betime the curst of my perture.\n",
      "\n",
      "DUKE VINCENTIO:\n",
      "You thirty one that would I would use her\n",
      "Look in the truth of Holy esure.\n",
      "Percusmass thoughts all to the keen should be prosiplty.\n",
      "\n",
      "TRANIO:\n",
      "ETward this content?\n",
      "\n",
      "DUKE VINCENTIO:\n",
      "Q, no, not my mind be meet, my lord;\n",
      "It is her to find behelless: I may burn?\n",
      "But I should be not Velruman was cited citiem's offence.\n",
      "O, come, let heal him again by gears that mark\n",
      "The notislave than the colours that made remain;\n",
      "What tast this bad?\n",
      "Here's your gracelet.\n",
      "\n",
      "LUCENTIO:\n",
      "That must be look'd enough from hence that would,\n",
      "Your uncle fiery for my fairest drums,\n",
      "Remove on time should bear his songer of;\n",
      "For I think there's no undealing accusation.\n",
      "Who should enough to the issue of her for him?\n",
      "\n",
      "PETRUCHIO:\n",
      "Beard thou alt 't handseeme. Faith, Jesumon, not to you\n",
      "Follow us in succession.\n",
      "\n",
      "PERDITA:\n",
      "And you, a amiss from the regal tonour'e border\n",
      "As once off-claim his father's court.\n",
      "\n",
      "SLY:\n",
      "We can do this being open more sever's life.\n",
      "Be it would be time; with matapagre from her,\n",
      "I'll prompt me which I am now for you.\n",
      "Your brother,\n",
      "Gentle madipitation! Go, commit thee, widow; he\n",
      "jeselfust, from our rumour in my tops of thief\n",
      "your right: wrath, past bys, sanctiMent by the duke's death.\n",
      "\n",
      "PERDITA:\n",
      "What is that my heart sigh?\n",
      "\n",
      "GREMIO:\n",
      "Go to:\n",
      "'Tis sung a leyion of two much lacks.\n",
      "I will thrust him from my cheeks, but it canst\n",
      "Buy true: if Petruchmonk face, you\n",
      "Even were us well-hand of the mystery to the prison?;\n",
      "He would go find us with true his wot or to\n",
      "the kingdom for security quarted.\n",
      "\n",
      "LEONTES:\n",
      "Doosm leaving man forgive; for the nature of o\n"
     ]
    }
   ],
   "metadata": {}
  },
  {
   "cell_type": "markdown",
   "source": [
    "## Word Based Approach"
   ],
   "metadata": {}
  },
  {
   "cell_type": "markdown",
   "source": [
    "### Loading and Processing the Dataset"
   ],
   "metadata": {}
  },
  {
   "cell_type": "code",
   "execution_count": 28,
   "source": [
    "word_batch_size = 128\r\n",
    "word_sequence_length = 25\r\n",
    "word_vocab_size = 1000\r\n",
    "\r\n",
    "AUTOTUNE = tf.data.AUTOTUNE\r\n",
    "\r\n",
    "test_ds, train_ds, validation_ds = tfds.load('tiny_shakespeare', split=['test', 'train', 'validation'])\r\n",
    "\r\n",
    "train_text = next(train_ds.as_numpy_iterator())['text'].decode()\r\n",
    "word_encoder = tf.keras.layers.experimental.preprocessing.StringLookup(max_tokens=word_vocab_size)\r\n",
    "word_encoder.adapt(re.findall(r\"[\\w']+|[.,!?;:\\n]\", train_text)) # This regex splits the text into words and punctuation\r\n",
    "word_decoder = tf.keras.layers.experimental.preprocessing.StringLookup(\r\n",
    "    invert=True,\r\n",
    "    vocabulary=word_encoder.get_vocabulary()\r\n",
    ")\r\n",
    "\r\n",
    "def process_ds(ds):\r\n",
    "    ds_text = next(ds.as_numpy_iterator())['text'].decode().lower()\r\n",
    "    ds = tf.data.Dataset.from_tensor_slices(word_encoder(re.findall(r\"[\\w']+|[.,!?;:\\n]\", ds_text)))\r\n",
    "    ds = ds.window(word_sequence_length+1, drop_remainder=True, shift=1)\r\n",
    "    ds = ds.flat_map(lambda window: window.batch(word_sequence_length+1))\r\n",
    "    ds = ds.map(lambda sequence: (sequence[:-1], sequence[-1]), num_parallel_calls=AUTOTUNE)\r\n",
    "    ds = ds.batch(word_batch_size)\r\n",
    "    ds = ds.shuffle(1000)\r\n",
    "    ds = ds.prefetch(AUTOTUNE)\r\n",
    "    return ds\r\n",
    "\r\n",
    "word_test_ds = process_ds(test_ds)\r\n",
    "word_train_ds = process_ds(train_ds)\r\n",
    "word_validation_ds = process_ds(validation_ds)"
   ],
   "outputs": [],
   "metadata": {}
  },
  {
   "cell_type": "markdown",
   "source": [
    "### Creating the Model"
   ],
   "metadata": {}
  },
  {
   "cell_type": "code",
   "execution_count": 53,
   "source": [
    "# Best Model\r\n",
    "# word_model = tf.keras.Sequential([\r\n",
    "#     tf.keras.layers.Embedding(\r\n",
    "#         input_dim=word_vocab_size,\r\n",
    "#         output_dim=64\r\n",
    "#     ),\r\n",
    "#     tf.keras.layers.Bidirectional(tf.keras.layers.LSTM(128, return_sequences=True)),\r\n",
    "#     tf.keras.layers.Bidirectional(tf.keras.layers.LSTM(128)),\r\n",
    "#     tf.keras.layers.Dense(word_vocab_size)\r\n",
    "# ])\r\n",
    "\r\n",
    "word_model = tf.keras.Sequential([\r\n",
    "    tf.keras.layers.Embedding(\r\n",
    "        input_dim=word_vocab_size,\r\n",
    "        output_dim=64\r\n",
    "    ),\r\n",
    "    tf.keras.layers.Bidirectional(tf.keras.layers.LSTM(512)),\r\n",
    "    tf.keras.layers.Dense(word_vocab_size)\r\n",
    "])\r\n",
    "word_model.compile(\r\n",
    "    loss=tf.keras.losses.SparseCategoricalCrossentropy(from_logits=True),\r\n",
    "    metrics=[tf.keras.metrics.SparseCategoricalAccuracy()],\r\n",
    "    optimizer=tf.keras.optimizers.Adam()\r\n",
    ")"
   ],
   "outputs": [],
   "metadata": {}
  },
  {
   "cell_type": "markdown",
   "source": [
    "### Training the Model"
   ],
   "metadata": {}
  },
  {
   "cell_type": "code",
   "execution_count": 54,
   "source": [
    "early_stopping_callback = tf.keras.callbacks.EarlyStopping(\r\n",
    "    mode='max',\r\n",
    "    monitor='val_sparse_categorical_accuracy',\r\n",
    "    patience=3,\r\n",
    "    restore_best_weights=True\r\n",
    ")\r\n",
    "word_history = word_model.fit(\r\n",
    "    word_train_ds,\r\n",
    "    callbacks=[early_stopping_callback],\r\n",
    "    epochs=100,\r\n",
    "    validation_data=word_validation_ds\r\n",
    ")"
   ],
   "outputs": [
    {
     "output_type": "stream",
     "name": "stdout",
     "text": [
      "Epoch 1/100\n",
      "2034/2034 [==============================] - 75s 31ms/step - loss: 3.7020 - sparse_categorical_accuracy: 0.3259 - val_loss: 3.2075 - val_sparse_categorical_accuracy: 0.3879\n",
      "Epoch 2/100\n",
      "2034/2034 [==============================] - 71s 31ms/step - loss: 3.3166 - sparse_categorical_accuracy: 0.3622 - val_loss: 3.0604 - val_sparse_categorical_accuracy: 0.3990\n",
      "Epoch 3/100\n",
      "2034/2034 [==============================] - 71s 30ms/step - loss: 3.1553 - sparse_categorical_accuracy: 0.3745 - val_loss: 2.9804 - val_sparse_categorical_accuracy: 0.4070\n",
      "Epoch 4/100\n",
      "2034/2034 [==============================] - 70s 30ms/step - loss: 3.0317 - sparse_categorical_accuracy: 0.3830 - val_loss: 2.9284 - val_sparse_categorical_accuracy: 0.4156\n",
      "Epoch 5/100\n",
      "2034/2034 [==============================] - 70s 31ms/step - loss: 2.8991 - sparse_categorical_accuracy: 0.3926 - val_loss: 2.9567 - val_sparse_categorical_accuracy: 0.4120\n",
      "Epoch 6/100\n",
      "2034/2034 [==============================] - 71s 30ms/step - loss: 2.7271 - sparse_categorical_accuracy: 0.4058 - val_loss: 2.9970 - val_sparse_categorical_accuracy: 0.4053\n",
      "Epoch 7/100\n",
      "2034/2034 [==============================] - 70s 30ms/step - loss: 2.4870 - sparse_categorical_accuracy: 0.4315 - val_loss: 3.0916 - val_sparse_categorical_accuracy: 0.3972\n"
     ]
    }
   ],
   "metadata": {}
  },
  {
   "cell_type": "markdown",
   "source": [
    "### Plotting Training Metrics and Saving the Best Model"
   ],
   "metadata": {}
  },
  {
   "cell_type": "code",
   "execution_count": 55,
   "source": [
    "plot_training_metrics(word_history)\r\n",
    "save_best_model(word_model, word_test_ds, 'Word_LSTM')"
   ],
   "outputs": [
    {
     "output_type": "display_data",
     "data": {
      "text/plain": [
       "<Figure size 864x576 with 2 Axes>"
      ],
      "image/png": "[encoded data removed]"
     },
     "metadata": {}
    },
    {
     "output_type": "stream",
     "name": "stdout",
     "text": [
      "Saved Model Evaluation:\n",
      "117/117 [==============================] - 3s 8ms/step - loss: 3.0241 - sparse_categorical_accuracy: 0.4113\n",
      "New Model Evaluation:\n",
      "117/117 [==============================] - 2s 12ms/step - loss: 2.9937 - sparse_categorical_accuracy: 0.4125\n",
      "INFO:tensorflow:Assets written to: WordLSTM\\assets\n"
     ]
    },
    {
     "output_type": "stream",
     "name": "stderr",
     "text": [
      "INFO:tensorflow:Assets written to: WordLSTM\\assets\n"
     ]
    }
   ],
   "metadata": {}
  },
  {
   "cell_type": "markdown",
   "source": [
    "### Generating Text"
   ],
   "metadata": {}
  },
  {
   "cell_type": "code",
   "execution_count": 56,
   "source": [
    "length_to_generate = 500\r\n",
    "starting_string = 'And then'\r\n",
    "\r\n",
    "best_model = tf.keras.models.load_model('Word_LSTM')\r\n",
    "generated_text = starting_string\r\n",
    "for i in range(length_to_generate):\r\n",
    "    if len(generated_text) > word_sequence_length:\r\n",
    "        prediction_string = generated_text[-word_sequence_length:]\r\n",
    "    else:\r\n",
    "        prediction_string = generated_text\r\n",
    "    prediction_ids = tf.transpose(tf.expand_dims(word_encoder(prediction_string.split()), axis=1))\r\n",
    "    predicted_logits = best_model(prediction_ids)\r\n",
    "    predicted_index = tf.random.categorical(predicted_logits, num_samples=1)\r\n",
    "    word_to_add = word_decoder(predicted_index).numpy()[0][0].decode()\r\n",
    "    if re.search(r'[.,!?;:\\n]', word_to_add):\r\n",
    "        generated_text += word_to_add\r\n",
    "    else:\r\n",
    "        generated_text += ' ' + word_to_add\r\n",
    "\r\n",
    "print('Generated Text:')\r\n",
    "print(generated_text)"
   ],
   "outputs": [
    {
     "output_type": "stream",
     "name": "stdout",
     "text": [
      "Generated Text:\n",
      "And then virtuous great [UNK]? for sorrow your highness!, [UNK]!,. deeds [UNK]. rest at\n",
      " kind and our [UNK] [UNK], to his [UNK] and\n",
      " a [UNK]\n",
      ";\n",
      "\n",
      "\n",
      " and as we yourself, us and his [UNK],,,. [UNK], [UNK];?;\n",
      " murder these [UNK]!? give me up::? without eyes??.,,\n",
      " and [UNK]: in\n",
      " [UNK]., straight??. is [UNK] can beat my help: my heart,?\n",
      ":\n",
      "\n",
      "\n",
      " at that side cannot [UNK] grief, Look?, doth [UNK]\n",
      " power; him,, course..; other late [UNK]; will beat\n",
      " [UNK] away all their [UNK] honour:!, with [UNK];, [UNK] mine: can an lawful\n",
      " grave dear [UNK],: of sin!;\n",
      ",\n",
      "\n",
      "\n",
      "\n",
      "\n",
      " strike your father's mouth,\n",
      ";\n",
      "\n",
      "\n",
      "\n",
      "\n",
      "\n",
      "\n",
      "\n",
      "\n",
      "\n",
      "\n",
      " and now [UNK] dead. from banishment and a [UNK] bid.;;!;?! of tears [UNK] myself turn on us\n",
      ";\n",
      " from dangerous [UNK]\n",
      "\n",
      " love the [UNK] of [UNK] myself,.; [UNK] [UNK]. than we will bring thee hence on men from hence my [UNK] can speak: me. live a men [UNK].:\n",
      ";\n",
      "\n",
      " and now, and lose them..! [UNK]!\n",
      ".\n",
      "\n",
      "\n",
      "\n",
      " [UNK] [UNK]! not speak!:? dear [UNK] is [UNK] your [UNK].;;? truth!.\n",
      ",\n",
      "\n",
      "\n",
      "\n",
      " [UNK], [UNK] your grace,,,.,, to go for night! wind,;.: a way, [UNK].; a [UNK]\n",
      ";\n",
      "\n",
      " trust again in me you\n",
      " talk but heir into for war [UNK] prove a [UNK]; thing:.:,,;.:. had not home to tell, him twenty to thy soldiers,.. hand, or young [UNK] yet [UNK] up an [UNK] my person! them should take him\n",
      ", alone, will [UNK] the\n",
      " [UNK] [UNK]:, again\n",
      ",\n",
      "\n",
      " and his king\n",
      ".\n",
      "\n",
      "\n",
      "\n",
      "\n",
      "\n",
      "\n",
      "\n",
      "\n",
      "\n",
      " what she? awhile?? might but die with me were all of way;.. and loves hence, gates! lady wrong? hence to\n",
      " grace as [UNK] them; [UNK] worse, lies so think: can [UNK] [UNK] times like sleep my grave [UNK]?\n",
      " to play.. him to know what [UNK] must speak? son,;? you to [UNK] his\n"
     ]
    }
   ],
   "metadata": {}
  },
  {
   "cell_type": "markdown",
   "source": [
    "On this task the character model seems to do better than the word model. Both are largely nonsensical but the character model less so. However, the word model may be limited by our limited vocabulary size of 1000 words. This doesn't excuse or explain its tendency to have multiple punctuation marks in a row, but may limit how effective training can be since many words in the training text will be represented by the [UNK] token."
   ],
   "metadata": {}
  }
 ],
 "metadata": {
  "orig_nbformat": 4,
  "language_info": {
   "name": "python",
   "version": "3.9.1",
   "mimetype": "text/x-python",
   "codemirror_mode": {
    "name": "ipython",
    "version": 3
   },
   "pygments_lexer": "ipython3",
   "nbconvert_exporter": "python",
   "file_extension": ".py"
  },
  "kernelspec": {
   "name": "python3",
   "display_name": "Python 3.9.1 64-bit ('base': conda)"
  },
  "interpreter": {
   "hash": "17e5ad908d28e97269e26b3cbc878f717c254511a9ca6820692befee122be5e1"
  }
 },
 "nbformat": 4,
 "nbformat_minor": 2
}