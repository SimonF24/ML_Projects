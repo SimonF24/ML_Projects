{
 "cells": [
  {
   "cell_type": "markdown",
   "id": "7c1dda9c-dc6c-4ca2-9230-2254e6040178",
   "metadata": {},
   "source": [
    "# MNIST Dataset Machine Learning Investigation"
   ]
  },
  {
   "cell_type": "markdown",
   "id": "52f371fe-551e-41c2-92d8-7bded82fa264",
   "metadata": {},
   "source": [
    "## Imports"
   ]
  },
  {
   "cell_type": "code",
   "execution_count": null,
   "id": "5d4552d3-47eb-4be3-9ab2-1df4416c50aa",
   "metadata": {
    "tags": []
   },
   "outputs": [],
   "source": [
    "import matplotlib.pyplot as plt\n",
    "import tensorflow as tf\n",
    "from tensorflow_datasets import load"
   ]
  },
  {
   "cell_type": "markdown",
   "id": "cd051af4-a4e0-4ddb-b456-654e457804b5",
   "metadata": {},
   "source": [
    "## Loading and Processing the Dataset"
   ]
  },
  {
   "cell_type": "code",
   "execution_count": null,
   "id": "79c31fc3-6490-4ce7-bd71-b1565498ca37",
   "metadata": {},
   "outputs": [],
   "source": [
    "# Loading data\n",
    "(train_ds, test_ds), ds_info = load('mnist', as_supervised=True, split=['train', 'test'], with_info=True)\n",
    "\n",
    "def normalize_image(image, label):\n",
    "    return tf.cast(image, tf.float32)/255, label\n",
    "\n",
    "# Preparing training data\n",
    "train_ds = train_ds.map(normalize_image, num_parallel_calls=tf.data.experimental.AUTOTUNE)\n",
    "train_ds = train_ds.cache()\n",
    "trainb_ds = train_ds.shuffle(ds_info.splits['train'].num_examples)\n",
    "train_ds = train_ds.batch(128)\n",
    "train_ds = train_ds.prefetch(tf.data.experimental.AUTOTUNE)\n",
    "\n",
    "# Preparing testing data\n",
    "test_ds = test_ds.map(normalize_image, num_parallel_calls=tf.data.experimental.AUTOTUNE)\n",
    "test_ds = test_ds.cache()\n",
    "test_ds = test_ds.batch(128)\n",
    "test_ds = test_ds.prefetch(tf.data.experimental.AUTOTUNE)"
   ]
  },
  {
   "cell_type": "markdown",
   "id": "b67dcdc9-673d-4f6f-9aa1-2e966ce6f40a",
   "metadata": {},
   "source": [
    "## Building the Model"
   ]
  },
  {
   "cell_type": "code",
   "execution_count": null,
   "id": "2fd7a532-8d4e-44b9-87ae-4395efd80b8b",
   "metadata": {},
   "outputs": [],
   "source": [
    "model = tf.keras.Sequential([\n",
    "    tf.keras.layers.Flatten(input_shape=(28,28)),\n",
    "    tf.keras.layers.Dense(128, activation='relu'),\n",
    "    tf.keras.layers.Dense(10)\n",
    "])\n",
    "model.compile(\n",
    "    loss=tf.keras.losses.SparseCategoricalCrossentropy(from_logits=True), \n",
    "    metrics=[tf.keras.metrics.SparseCategoricalAccuracy()],\n",
    "    optimizer=tf.keras.optimizers.Adam()\n",
    ")"
   ]
  },
  {
   "cell_type": "markdown",
   "id": "d541eb60-eebe-4632-98f5-c1fe3d6416ba",
   "metadata": {},
   "source": [
    "## Training the Model"
   ]
  },
  {
   "cell_type": "code",
   "execution_count": null,
   "id": "503a6539-5aba-43fc-ad4b-9877c9664649",
   "metadata": {},
   "outputs": [],
   "source": [
    "history = model.fit(\n",
    "    train_ds,\n",
    "    epochs=6,\n",
    "    validation_data=test_ds\n",
    ")"
   ]
  },
  {
   "cell_type": "markdown",
   "id": "b027d485-b543-47f7-9a18-ac62819791bd",
   "metadata": {},
   "source": [
    "## Plotting the Results"
   ]
  },
  {
   "cell_type": "code",
   "execution_count": null,
   "id": "9657c50c-cc9f-418b-b648-63108028441a",
   "metadata": {},
   "outputs": [],
   "source": [
    "plt.figure()\n",
    "plt.plot(history['loss'], label='Loss')\n",
    "plt.plot(history['val_loss'], label='Validation Loss')\n",
    "plt.legend()"
   ]
  }
 ],
 "metadata": {
  "kernelspec": {
   "display_name": "Python 3 (ipykernel)",
   "language": "python",
   "name": "python3"
  },
  "language_info": {
   "codemirror_mode": {
    "name": "ipython",
    "version": 3
   },
   "file_extension": ".py",
   "mimetype": "text/x-python",
   "name": "python",
   "nbconvert_exporter": "python",
   "pygments_lexer": "ipython3",
   "version": "3.9.1"
  }
 },
 "nbformat": 4,
 "nbformat_minor": 5
}
