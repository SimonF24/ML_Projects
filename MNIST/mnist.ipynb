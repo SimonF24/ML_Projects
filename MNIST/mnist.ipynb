{
 "cells": [
  {
   "cell_type": "markdown",
   "source": [
    "# MNIST Dataset Investigation"
   ],
   "metadata": {}
  },
  {
   "cell_type": "markdown",
   "source": [
    "## Imports"
   ],
   "metadata": {}
  },
  {
   "cell_type": "code",
   "execution_count": 1,
   "source": [
    "import matplotlib.pyplot as plt\r\n",
    "import tensorflow as tf\r\n",
    "from tensorflow_datasets import load"
   ],
   "outputs": [],
   "metadata": {
    "tags": []
   }
  },
  {
   "cell_type": "markdown",
   "source": [
    "## Loading the Dataset"
   ],
   "metadata": {}
  },
  {
   "cell_type": "code",
   "execution_count": 2,
   "source": [
    "# Loading data\r\n",
    "(train_ds, test_ds), ds_info = load('mnist', as_supervised=True, split=['train', 'test'], with_info=True)"
   ],
   "outputs": [],
   "metadata": {}
  },
  {
   "cell_type": "markdown",
   "source": [
    "## Function to test if a model is better than our saved model\r\n",
    "\r\n",
    "We just use the accuracy on the test dataset for this function for convenience, this should probably be done with a separate dataset."
   ],
   "metadata": {}
  },
  {
   "cell_type": "code",
   "execution_count": 3,
   "source": [
    "def save_best_model(model, model_type, test_ds):\r\n",
    "    '''\r\n",
    "    model is expected to be a newly trained model\r\n",
    "    model_type is expected to a string denoting the type of model (i.e. FFNN or CNN)\r\n",
    "    '''\r\n",
    "    try:\r\n",
    "        saved_model = tf.keras.models.load_model(model_type)\r\n",
    "    except:\r\n",
    "        saved_model = None\r\n",
    "\r\n",
    "    if saved_model:\r\n",
    "        saved_model_metrics = saved_model.evaluate(test_ds, return_dict=True)\r\n",
    "        new_model_metrics = model.evaluate(test_ds, return_dict=True)\r\n",
    "        if new_model_metrics['loss'] < saved_model_metrics['loss']:\r\n",
    "            model.save(model_type)\r\n",
    "    else:\r\n",
    "        model.save(model_type)"
   ],
   "outputs": [],
   "metadata": {}
  },
  {
   "cell_type": "markdown",
   "source": [
    "## Feed Forward Neural Network"
   ],
   "metadata": {}
  },
  {
   "cell_type": "markdown",
   "source": [
    "### Processing the Dataset"
   ],
   "metadata": {}
  },
  {
   "cell_type": "code",
   "execution_count": 4,
   "source": [
    "def normalize_image(image, label):\r\n",
    "    return tf.cast(image, tf.float32)/255, label\r\n",
    "\r\n",
    "# Preparing training data\r\n",
    "ffnn_train_ds = train_ds.map(normalize_image, num_parallel_calls=tf.data.experimental.AUTOTUNE)\r\n",
    "ffnn_train_ds = ffnn_train_ds.cache()\r\n",
    "ffnn_train_ds = ffnn_train_ds.shuffle(ds_info.splits['train'].num_examples)\r\n",
    "ffnn_train_ds = ffnn_train_ds.batch(128)\r\n",
    "ffnn_train_ds = ffnn_train_ds.prefetch(tf.data.experimental.AUTOTUNE)\r\n",
    "\r\n",
    "# Preparing testing data\r\n",
    "ffnn_test_ds = test_ds.map(normalize_image, num_parallel_calls=tf.data.experimental.AUTOTUNE)\r\n",
    "ffnn_test_ds = ffnn_test_ds.cache()\r\n",
    "ffnn_test_ds = ffnn_test_ds.batch(128)\r\n",
    "ffnn_test_ds = ffnn_test_ds.prefetch(tf.data.experimental.AUTOTUNE)"
   ],
   "outputs": [],
   "metadata": {}
  },
  {
   "cell_type": "markdown",
   "source": [
    "### Building the Model"
   ],
   "metadata": {}
  },
  {
   "cell_type": "code",
   "execution_count": 5,
   "source": [
    "ffnn_model = tf.keras.Sequential([\r\n",
    "    tf.keras.layers.Flatten(input_shape=(28,28)),\r\n",
    "    tf.keras.layers.Dense(128, activation='relu'),\r\n",
    "    tf.keras.layers.Dense(10)\r\n",
    "])\r\n",
    "ffnn_model.compile(\r\n",
    "    loss=tf.keras.losses.SparseCategoricalCrossentropy(from_logits=True), \r\n",
    "    metrics=[tf.keras.metrics.SparseCategoricalAccuracy()],\r\n",
    "    optimizer=tf.keras.optimizers.Adam()\r\n",
    ")"
   ],
   "outputs": [],
   "metadata": {}
  },
  {
   "cell_type": "markdown",
   "source": [
    "### Training the Model"
   ],
   "metadata": {}
  },
  {
   "cell_type": "code",
   "execution_count": 6,
   "source": [
    "early_stopping_callback = tf.keras.callbacks.EarlyStopping(patience=2)\r\n",
    "ffnn_history = ffnn_model.fit(\r\n",
    "    ffnn_train_ds,\r\n",
    "    callbacks=[early_stopping_callback],\r\n",
    "    epochs=100,\r\n",
    "    validation_data=ffnn_test_ds\r\n",
    ")"
   ],
   "outputs": [
    {
     "output_type": "stream",
     "name": "stdout",
     "text": [
      "Epoch 1/100\n",
      "469/469 [==============================] - 3s 3ms/step - loss: 0.3499 - sparse_categorical_accuracy: 0.9041 - val_loss: 0.1979 - val_sparse_categorical_accuracy: 0.9429\n",
      "Epoch 2/100\n",
      "469/469 [==============================] - 1s 2ms/step - loss: 0.1640 - sparse_categorical_accuracy: 0.9528 - val_loss: 0.1377 - val_sparse_categorical_accuracy: 0.9602\n",
      "Epoch 3/100\n",
      "469/469 [==============================] - 1s 2ms/step - loss: 0.1183 - sparse_categorical_accuracy: 0.9661 - val_loss: 0.1167 - val_sparse_categorical_accuracy: 0.9653\n",
      "Epoch 4/100\n",
      "469/469 [==============================] - 1s 2ms/step - loss: 0.0930 - sparse_categorical_accuracy: 0.9727 - val_loss: 0.1067 - val_sparse_categorical_accuracy: 0.9670\n",
      "Epoch 5/100\n",
      "469/469 [==============================] - 1s 2ms/step - loss: 0.0744 - sparse_categorical_accuracy: 0.9778 - val_loss: 0.0887 - val_sparse_categorical_accuracy: 0.9722\n",
      "Epoch 6/100\n",
      "469/469 [==============================] - 1s 2ms/step - loss: 0.0615 - sparse_categorical_accuracy: 0.9817 - val_loss: 0.0850 - val_sparse_categorical_accuracy: 0.9748\n",
      "Epoch 7/100\n",
      "469/469 [==============================] - 1s 2ms/step - loss: 0.0518 - sparse_categorical_accuracy: 0.9850 - val_loss: 0.0870 - val_sparse_categorical_accuracy: 0.9730\n",
      "Epoch 8/100\n",
      "469/469 [==============================] - 1s 2ms/step - loss: 0.0446 - sparse_categorical_accuracy: 0.9872 - val_loss: 0.0762 - val_sparse_categorical_accuracy: 0.9771\n",
      "Epoch 9/100\n",
      "469/469 [==============================] - 1s 2ms/step - loss: 0.0378 - sparse_categorical_accuracy: 0.9893 - val_loss: 0.0801 - val_sparse_categorical_accuracy: 0.9766\n",
      "Epoch 10/100\n",
      "469/469 [==============================] - 1s 2ms/step - loss: 0.0318 - sparse_categorical_accuracy: 0.9913 - val_loss: 0.0753 - val_sparse_categorical_accuracy: 0.9780\n",
      "Epoch 11/100\n",
      "469/469 [==============================] - 1s 2ms/step - loss: 0.0273 - sparse_categorical_accuracy: 0.9926 - val_loss: 0.0710 - val_sparse_categorical_accuracy: 0.9799\n",
      "Epoch 12/100\n",
      "469/469 [==============================] - 1s 2ms/step - loss: 0.0228 - sparse_categorical_accuracy: 0.9943 - val_loss: 0.0805 - val_sparse_categorical_accuracy: 0.9764\n",
      "Epoch 13/100\n",
      "469/469 [==============================] - 1s 2ms/step - loss: 0.0197 - sparse_categorical_accuracy: 0.9951 - val_loss: 0.0746 - val_sparse_categorical_accuracy: 0.9793\n"
     ]
    }
   ],
   "metadata": {}
  },
  {
   "cell_type": "markdown",
   "source": [
    "### Plotting the Results"
   ],
   "metadata": {}
  },
  {
   "cell_type": "code",
   "execution_count": 14,
   "source": [
    "plt.figure()\r\n",
    "plt.plot(ffnn_history.history['loss'], label='Loss')\r\n",
    "plt.plot(ffnn_history.history['val_loss'], label='Validation Loss')\r\n",
    "plt.legend()\r\n",
    "plt.show()\r\n"
   ],
   "outputs": [
    {
     "output_type": "display_data",
     "data": {
      "text/plain": [
       "<Figure size 432x288 with 1 Axes>"
      ],
      "image/png": "[encoded data removed]"
     },
     "metadata": {
      "needs_background": "light"
     }
    }
   ],
   "metadata": {}
  },
  {
   "cell_type": "markdown",
   "source": [
    "### Saving the Best Feed-Forward Model"
   ],
   "metadata": {}
  },
  {
   "cell_type": "code",
   "execution_count": 8,
   "source": [
    "save_best_model(ffnn_model, 'FFNN', ffnn_test_ds)"
   ],
   "outputs": [
    {
     "output_type": "stream",
     "name": "stdout",
     "text": [
      "79/79 [==============================] - 0s 2ms/step - loss: 0.0692 - sparse_categorical_accuracy: 0.9789\n",
      "79/79 [==============================] - 0s 1ms/step - loss: 0.0746 - sparse_categorical_accuracy: 0.9793\n"
     ]
    }
   ],
   "metadata": {}
  },
  {
   "cell_type": "markdown",
   "source": [
    "## Convolutional Neural Network"
   ],
   "metadata": {}
  },
  {
   "cell_type": "markdown",
   "source": [
    "### Processing the Dataset"
   ],
   "metadata": {}
  },
  {
   "cell_type": "code",
   "execution_count": 9,
   "source": [
    "def cnn_normalize_image(image, label):\r\n",
    "    image = tf.cast(image, tf.float32)/255\r\n",
    "    image = tf.expand_dims(image, 3) \r\n",
    "    return image, label\r\n",
    "\r\n",
    "# Preparing training data\r\n",
    "cnn_train_ds = train_ds.map(cnn_normalize_image, num_parallel_calls=tf.data.experimental.AUTOTUNE)\r\n",
    "cnn_train_ds = cnn_train_ds.cache()\r\n",
    "cnn_train_ds = cnn_train_ds.shuffle(ds_info.splits['train'].num_examples)\r\n",
    "cnn_train_ds = cnn_train_ds.batch(128)\r\n",
    "cnn_train_ds = cnn_train_ds.prefetch(tf.data.experimental.AUTOTUNE)\r\n",
    "\r\n",
    "# Preparing testing data\r\n",
    "cnn_test_ds = test_ds.map(normalize_image, num_parallel_calls=tf.data.experimental.AUTOTUNE)\r\n",
    "test_ds = cnn_test_ds.cache()\r\n",
    "cnn_test_ds = cnn_test_ds.batch(128)\r\n",
    "cnn_test_ds = cnn_test_ds.prefetch(tf.data.experimental.AUTOTUNE)"
   ],
   "outputs": [],
   "metadata": {}
  },
  {
   "cell_type": "markdown",
   "source": [
    "### Buliding the Model"
   ],
   "metadata": {}
  },
  {
   "cell_type": "code",
   "execution_count": 10,
   "source": [
    "cnn_model = tf.keras.Sequential([\r\n",
    "    tf.keras.layers.Conv2D(32, 3, activation='relu', input_shape=(28, 28, 1)),\r\n",
    "    tf.keras.layers.MaxPool2D(),\r\n",
    "    tf.keras.layers.Flatten(),\r\n",
    "    tf.keras.layers.Dense(10)\r\n",
    "])\r\n",
    "cnn_model.compile(\r\n",
    "    loss=tf.keras.losses.SparseCategoricalCrossentropy(from_logits=True), \r\n",
    "    metrics=[tf.keras.metrics.SparseCategoricalAccuracy()],\r\n",
    "    optimizer=tf.keras.optimizers.Adam()\r\n",
    ")"
   ],
   "outputs": [],
   "metadata": {}
  },
  {
   "cell_type": "markdown",
   "source": [
    "### Training the Model"
   ],
   "metadata": {}
  },
  {
   "cell_type": "code",
   "execution_count": 11,
   "source": [
    "early_stopping_callback = tf.keras.callbacks.EarlyStopping(patience=2)\r\n",
    "cnn_history = cnn_model.fit(\r\n",
    "    cnn_train_ds,\r\n",
    "    callbacks=[early_stopping_callback],\r\n",
    "    epochs=100,\r\n",
    "    validation_data=cnn_test_ds\r\n",
    ")"
   ],
   "outputs": [
    {
     "output_type": "stream",
     "name": "stdout",
     "text": [
      "Epoch 1/100\n",
      "469/469 [==============================] - 9s 4ms/step - loss: 0.3539 - sparse_categorical_accuracy: 0.9012 - val_loss: 0.1568 - val_sparse_categorical_accuracy: 0.9578\n",
      "Epoch 2/100\n",
      "469/469 [==============================] - 2s 3ms/step - loss: 0.1288 - sparse_categorical_accuracy: 0.9644 - val_loss: 0.0955 - val_sparse_categorical_accuracy: 0.9731\n",
      "Epoch 3/100\n",
      "469/469 [==============================] - 2s 3ms/step - loss: 0.0880 - sparse_categorical_accuracy: 0.9756 - val_loss: 0.0770 - val_sparse_categorical_accuracy: 0.9754\n",
      "Epoch 4/100\n",
      "469/469 [==============================] - 2s 3ms/step - loss: 0.0704 - sparse_categorical_accuracy: 0.9800 - val_loss: 0.0647 - val_sparse_categorical_accuracy: 0.9800\n",
      "Epoch 5/100\n",
      "469/469 [==============================] - 2s 3ms/step - loss: 0.0605 - sparse_categorical_accuracy: 0.9828 - val_loss: 0.0606 - val_sparse_categorical_accuracy: 0.9814\n",
      "Epoch 6/100\n",
      "469/469 [==============================] - 2s 3ms/step - loss: 0.0530 - sparse_categorical_accuracy: 0.9850 - val_loss: 0.0606 - val_sparse_categorical_accuracy: 0.9806\n",
      "Epoch 7/100\n",
      "469/469 [==============================] - 2s 3ms/step - loss: 0.0487 - sparse_categorical_accuracy: 0.9859 - val_loss: 0.0557 - val_sparse_categorical_accuracy: 0.9815\n",
      "Epoch 8/100\n",
      "469/469 [==============================] - 2s 3ms/step - loss: 0.0438 - sparse_categorical_accuracy: 0.9875 - val_loss: 0.0536 - val_sparse_categorical_accuracy: 0.9815\n",
      "Epoch 9/100\n",
      "469/469 [==============================] - 2s 3ms/step - loss: 0.0400 - sparse_categorical_accuracy: 0.9886 - val_loss: 0.0519 - val_sparse_categorical_accuracy: 0.9835\n",
      "Epoch 10/100\n",
      "469/469 [==============================] - 2s 3ms/step - loss: 0.0365 - sparse_categorical_accuracy: 0.9896 - val_loss: 0.0541 - val_sparse_categorical_accuracy: 0.9823\n",
      "Epoch 11/100\n",
      "469/469 [==============================] - 2s 3ms/step - loss: 0.0340 - sparse_categorical_accuracy: 0.9903 - val_loss: 0.0544 - val_sparse_categorical_accuracy: 0.9823\n",
      "Epoch 12/100\n",
      "469/469 [==============================] - 2s 3ms/step - loss: 0.0313 - sparse_categorical_accuracy: 0.9909 - val_loss: 0.0578 - val_sparse_categorical_accuracy: 0.9825\n"
     ]
    }
   ],
   "metadata": {}
  },
  {
   "cell_type": "markdown",
   "source": [
    "### Plotting the Training Results"
   ],
   "metadata": {}
  },
  {
   "cell_type": "code",
   "execution_count": 13,
   "source": [
    "plt.figure()\r\n",
    "plt.plot(cnn_history.history['loss'], label='Loss')\r\n",
    "plt.plot(cnn_history.history['val_loss'], label='Validation Loss')\r\n",
    "plt.legend()\r\n",
    "plt.show()"
   ],
   "outputs": [
    {
     "output_type": "display_data",
     "data": {
      "text/plain": [
       "<Figure size 432x288 with 1 Axes>"
      ],
      "image/png": "[encoded data removed]"
     },
     "metadata": {
      "needs_background": "light"
     }
    }
   ],
   "metadata": {}
  },
  {
   "cell_type": "markdown",
   "source": [
    "### Saving the Best CNN Model"
   ],
   "metadata": {}
  },
  {
   "cell_type": "code",
   "execution_count": 15,
   "source": [
    "save_best_model(cnn_model, 'CNN', cnn_test_ds)"
   ],
   "outputs": [
    {
     "output_type": "stream",
     "name": "stdout",
     "text": [
      "INFO:tensorflow:Assets written to: CNN\\assets\n"
     ]
    },
    {
     "output_type": "stream",
     "name": "stderr",
     "text": [
      "INFO:tensorflow:Assets written to: CNN\\assets\n"
     ]
    }
   ],
   "metadata": {}
  }
 ],
 "metadata": {
  "kernelspec": {
   "name": "python3",
   "display_name": "Python 3.9.1 64-bit ('base': conda)"
  },
  "language_info": {
   "codemirror_mode": {
    "name": "ipython",
    "version": 3
   },
   "file_extension": ".py",
   "mimetype": "text/x-python",
   "name": "python",
   "nbconvert_exporter": "python",
   "pygments_lexer": "ipython3",
   "version": "3.9.1"
  },
  "interpreter": {
   "hash": "17e5ad908d28e97269e26b3cbc878f717c254511a9ca6820692befee122be5e1"
  }
 },
 "nbformat": 4,
 "nbformat_minor": 5
}