{
 "cells": [
  {
   "cell_type": "markdown",
   "source": [
    "# MNIST Dataset ML"
   ],
   "metadata": {}
  },
  {
   "cell_type": "markdown",
   "source": [
    "This dataset contains images of 10 handwritten digits as 28 x 28 images. The goal is to build a classifier that can distinguish between these 10 digits."
   ],
   "metadata": {}
  },
  {
   "cell_type": "markdown",
   "source": [
    "## Imports"
   ],
   "metadata": {}
  },
  {
   "cell_type": "code",
   "execution_count": 2,
   "source": [
    "import matplotlib.pyplot as plt\r\n",
    "import tensorflow as tf\r\n",
    "from tensorflow_datasets import load, show_examples"
   ],
   "outputs": [],
   "metadata": {
    "tags": []
   }
  },
  {
   "cell_type": "markdown",
   "source": [
    "## Loading the Dataset"
   ],
   "metadata": {}
  },
  {
   "cell_type": "code",
   "execution_count": 3,
   "source": [
    "# Loading data\r\n",
    "(train_ds, test_ds), ds_info = load('mnist', as_supervised=True, split=['train', 'test'], with_info=True)\r\n",
    "fig = show_examples(train_ds, ds_info)"
   ],
   "outputs": [
    {
     "output_type": "display_data",
     "data": {
      "text/plain": [
       "<Figure size 648x648 with 9 Axes>"
      ],
      "image/png": "[encoded data removed]"
     },
     "metadata": {}
    }
   ],
   "metadata": {}
  },
  {
   "cell_type": "markdown",
   "source": [
    "## Function to test if a model is better than our saved model\r\n",
    "\r\n",
    "We just use the accuracy on the test dataset for this function for convenience, this should probably be done with a separate dataset."
   ],
   "metadata": {}
  },
  {
   "cell_type": "code",
   "execution_count": 4,
   "source": [
    "def save_best_model(model, model_type, test_ds):\r\n",
    "    '''\r\n",
    "    model is expected to be a newly trained model\r\n",
    "    model_type is expected to a string denoting the type of model (i.e. FFNN or CNN)\r\n",
    "    '''\r\n",
    "    try:\r\n",
    "        saved_model = tf.keras.models.load_model(model_type)\r\n",
    "    except:\r\n",
    "        saved_model = None\r\n",
    "\r\n",
    "    if saved_model:\r\n",
    "        saved_model_metrics = saved_model.evaluate(test_ds, return_dict=True)\r\n",
    "        new_model_metrics = model.evaluate(test_ds, return_dict=True)\r\n",
    "        if new_model_metrics['sparse_categorical_accuracy'] > saved_model_metrics['sparse_categorical_accuracy']:\r\n",
    "            model.save(model_type)\r\n",
    "    else:\r\n",
    "        model.save(model_type)"
   ],
   "outputs": [],
   "metadata": {}
  },
  {
   "cell_type": "markdown",
   "source": [
    "## Feed Forward Neural Network"
   ],
   "metadata": {}
  },
  {
   "cell_type": "markdown",
   "source": [
    "### Processing the Dataset"
   ],
   "metadata": {}
  },
  {
   "cell_type": "code",
   "execution_count": 5,
   "source": [
    "def normalize_image(image, label):\r\n",
    "    return tf.cast(image, tf.float32)/255, label\r\n",
    "\r\n",
    "# Preparing training data\r\n",
    "ffnn_train_ds = train_ds.map(normalize_image, num_parallel_calls=tf.data.AUTOTUNE)\r\n",
    "ffnn_train_ds = ffnn_train_ds.cache()\r\n",
    "ffnn_train_ds = ffnn_train_ds.shuffle(ds_info.splits['train'].num_examples)\r\n",
    "ffnn_train_ds = ffnn_train_ds.batch(128)\r\n",
    "ffnn_train_ds = ffnn_train_ds.prefetch(tf.data.experimental.AUTOTUNE)\r\n",
    "\r\n",
    "# Preparing testing data\r\n",
    "ffnn_test_ds = test_ds.map(normalize_image, num_parallel_calls=tf.data.AUTOTUNE)\r\n",
    "ffnn_test_ds = ffnn_test_ds.cache()\r\n",
    "ffnn_test_ds = ffnn_test_ds.batch(128)\r\n",
    "ffnn_test_ds = ffnn_test_ds.prefetch(tf.data.experimental.AUTOTUNE)"
   ],
   "outputs": [],
   "metadata": {}
  },
  {
   "cell_type": "markdown",
   "source": [
    "### Building the Model"
   ],
   "metadata": {}
  },
  {
   "cell_type": "code",
   "execution_count": 6,
   "source": [
    "ffnn_model = tf.keras.Sequential([\r\n",
    "    tf.keras.layers.Flatten(input_shape=(28,28)),\r\n",
    "    tf.keras.layers.Dense(128, activation='relu'),\r\n",
    "    tf.keras.layers.Dense(10)\r\n",
    "])\r\n",
    "ffnn_model.compile(\r\n",
    "    loss=tf.keras.losses.SparseCategoricalCrossentropy(from_logits=True), \r\n",
    "    metrics=[tf.keras.metrics.SparseCategoricalAccuracy()],\r\n",
    "    optimizer=tf.keras.optimizers.Adam()\r\n",
    ")\r\n",
    "ffnn_model.summary()"
   ],
   "outputs": [
    {
     "output_type": "stream",
     "name": "stdout",
     "text": [
      "Model: \"sequential\"\n",
      "_________________________________________________________________\n",
      "Layer (type)                 Output Shape              Param #   \n",
      "=================================================================\n",
      "flatten (Flatten)            (None, 784)               0         \n",
      "_________________________________________________________________\n",
      "dense (Dense)                (None, 128)               100480    \n",
      "_________________________________________________________________\n",
      "dense_1 (Dense)              (None, 10)                1290      \n",
      "=================================================================\n",
      "Total params: 101,770\n",
      "Trainable params: 101,770\n",
      "Non-trainable params: 0\n",
      "_________________________________________________________________\n"
     ]
    }
   ],
   "metadata": {}
  },
  {
   "cell_type": "markdown",
   "source": [
    "### Training the Model"
   ],
   "metadata": {}
  },
  {
   "cell_type": "code",
   "execution_count": 7,
   "source": [
    "early_stopping_callback = tf.keras.callbacks.EarlyStopping(patience=2)\r\n",
    "ffnn_history = ffnn_model.fit(\r\n",
    "    ffnn_train_ds,\r\n",
    "    callbacks=[early_stopping_callback],\r\n",
    "    epochs=100,\r\n",
    "    validation_data=ffnn_test_ds\r\n",
    ")"
   ],
   "outputs": [
    {
     "output_type": "stream",
     "name": "stdout",
     "text": [
      "Epoch 1/100\n",
      "469/469 [==============================] - 3s 2ms/step - loss: 0.3487 - sparse_categorical_accuracy: 0.9023 - val_loss: 0.1952 - val_sparse_categorical_accuracy: 0.9446\n",
      "Epoch 2/100\n",
      "469/469 [==============================] - 1s 2ms/step - loss: 0.1605 - sparse_categorical_accuracy: 0.9544 - val_loss: 0.1423 - val_sparse_categorical_accuracy: 0.9578\n",
      "Epoch 3/100\n",
      "469/469 [==============================] - 1s 2ms/step - loss: 0.1164 - sparse_categorical_accuracy: 0.9668 - val_loss: 0.1126 - val_sparse_categorical_accuracy: 0.9663\n",
      "Epoch 4/100\n",
      "469/469 [==============================] - 1s 2ms/step - loss: 0.0913 - sparse_categorical_accuracy: 0.9737 - val_loss: 0.1038 - val_sparse_categorical_accuracy: 0.9695\n",
      "Epoch 5/100\n",
      "469/469 [==============================] - 1s 2ms/step - loss: 0.0740 - sparse_categorical_accuracy: 0.9783 - val_loss: 0.0920 - val_sparse_categorical_accuracy: 0.9724\n",
      "Epoch 6/100\n",
      "469/469 [==============================] - 1s 2ms/step - loss: 0.0618 - sparse_categorical_accuracy: 0.9823 - val_loss: 0.0869 - val_sparse_categorical_accuracy: 0.9732\n",
      "Epoch 7/100\n",
      "469/469 [==============================] - 1s 2ms/step - loss: 0.0525 - sparse_categorical_accuracy: 0.9846 - val_loss: 0.0823 - val_sparse_categorical_accuracy: 0.9751\n",
      "Epoch 8/100\n",
      "469/469 [==============================] - 1s 2ms/step - loss: 0.0448 - sparse_categorical_accuracy: 0.9872 - val_loss: 0.0803 - val_sparse_categorical_accuracy: 0.9754\n",
      "Epoch 9/100\n",
      "469/469 [==============================] - 1s 2ms/step - loss: 0.0382 - sparse_categorical_accuracy: 0.9892 - val_loss: 0.0746 - val_sparse_categorical_accuracy: 0.9759\n",
      "Epoch 10/100\n",
      "469/469 [==============================] - 1s 2ms/step - loss: 0.0324 - sparse_categorical_accuracy: 0.9912 - val_loss: 0.0750 - val_sparse_categorical_accuracy: 0.9783\n",
      "Epoch 11/100\n",
      "469/469 [==============================] - 1s 2ms/step - loss: 0.0278 - sparse_categorical_accuracy: 0.9923 - val_loss: 0.0743 - val_sparse_categorical_accuracy: 0.9772\n",
      "Epoch 12/100\n",
      "469/469 [==============================] - 1s 2ms/step - loss: 0.0232 - sparse_categorical_accuracy: 0.9940 - val_loss: 0.0768 - val_sparse_categorical_accuracy: 0.9767\n",
      "Epoch 13/100\n",
      "469/469 [==============================] - 1s 2ms/step - loss: 0.0196 - sparse_categorical_accuracy: 0.9951 - val_loss: 0.0766 - val_sparse_categorical_accuracy: 0.9762\n"
     ]
    }
   ],
   "metadata": {}
  },
  {
   "cell_type": "markdown",
   "source": [
    "### Plotting the Results"
   ],
   "metadata": {}
  },
  {
   "cell_type": "code",
   "execution_count": 8,
   "source": [
    "plt.figure()\r\n",
    "plt.plot(ffnn_history.history['loss'], label='Loss')\r\n",
    "plt.plot(ffnn_history.history['val_loss'], label='Validation Loss')\r\n",
    "plt.legend()\r\n",
    "plt.show()\r\n"
   ],
   "outputs": [
    {
     "output_type": "display_data",
     "data": {
      "text/plain": [
       "<Figure size 432x288 with 1 Axes>"
      ],
      "image/png": "[encoded data removed]"
     },
     "metadata": {
      "needs_background": "light"
     }
    }
   ],
   "metadata": {}
  },
  {
   "cell_type": "markdown",
   "source": [
    "### Saving the Best Feed-Forward Model"
   ],
   "metadata": {}
  },
  {
   "cell_type": "code",
   "execution_count": 9,
   "source": [
    "save_best_model(ffnn_model, 'FFNN', ffnn_test_ds)"
   ],
   "outputs": [
    {
     "output_type": "stream",
     "name": "stdout",
     "text": [
      "79/79 [==============================] - 0s 1ms/step - loss: 0.0692 - sparse_categorical_accuracy: 0.9789\n",
      "79/79 [==============================] - 0s 1ms/step - loss: 0.0766 - sparse_categorical_accuracy: 0.9762\n"
     ]
    }
   ],
   "metadata": {}
  },
  {
   "cell_type": "markdown",
   "source": [
    "## Convolutional Neural Network"
   ],
   "metadata": {}
  },
  {
   "cell_type": "markdown",
   "source": [
    "### Processing the Dataset"
   ],
   "metadata": {}
  },
  {
   "cell_type": "code",
   "execution_count": 10,
   "source": [
    "def cnn_normalize_image(image, label):\r\n",
    "    image = tf.cast(image, tf.float32)/255\r\n",
    "    image = tf.expand_dims(image, 3) \r\n",
    "    return image, label\r\n",
    "\r\n",
    "# Preparing training data\r\n",
    "cnn_train_ds = train_ds.map(cnn_normalize_image, num_parallel_calls=tf.data.experimental.AUTOTUNE)\r\n",
    "cnn_train_ds = cnn_train_ds.cache()\r\n",
    "cnn_train_ds = cnn_train_ds.shuffle(ds_info.splits['train'].num_examples)\r\n",
    "cnn_train_ds = cnn_train_ds.batch(128)\r\n",
    "cnn_train_ds = cnn_train_ds.prefetch(tf.data.experimental.AUTOTUNE)\r\n",
    "\r\n",
    "# Preparing testing data\r\n",
    "cnn_test_ds = test_ds.map(cnn_normalize_image, num_parallel_calls=tf.data.experimental.AUTOTUNE)\r\n",
    "test_ds = cnn_test_ds.cache()\r\n",
    "cnn_test_ds = cnn_test_ds.batch(128)\r\n",
    "cnn_test_ds = cnn_test_ds.prefetch(tf.data.experimental.AUTOTUNE)"
   ],
   "outputs": [],
   "metadata": {}
  },
  {
   "cell_type": "markdown",
   "source": [
    "### Buliding the Model"
   ],
   "metadata": {}
  },
  {
   "cell_type": "code",
   "execution_count": 11,
   "source": [
    "cnn_model = tf.keras.Sequential([\r\n",
    "    tf.keras.layers.Conv2D(32, 4, activation='relu', input_shape=(28, 28, 1)),\r\n",
    "    tf.keras.layers.MaxPool2D(),\r\n",
    "    tf.keras.layers.Conv2D(32, 4, activation='relu'),\r\n",
    "    tf.keras.layers.MaxPool2D(),\r\n",
    "    tf.keras.layers.Flatten(),\r\n",
    "    tf.keras.layers.Dense(128, activation='relu'),\r\n",
    "    tf.keras.layers.Dense(10)\r\n",
    "])\r\n",
    "cnn_model.compile(\r\n",
    "    loss=tf.keras.losses.SparseCategoricalCrossentropy(from_logits=True), \r\n",
    "    metrics=[tf.keras.metrics.SparseCategoricalAccuracy()],\r\n",
    "    optimizer=tf.keras.optimizers.Adam(0.0005)\r\n",
    ")\r\n",
    "cnn_model.summary()"
   ],
   "outputs": [
    {
     "output_type": "stream",
     "name": "stdout",
     "text": [
      "Model: \"sequential_1\"\n",
      "_________________________________________________________________\n",
      "Layer (type)                 Output Shape              Param #   \n",
      "=================================================================\n",
      "conv2d (Conv2D)              (None, 25, 25, 32)        544       \n",
      "_________________________________________________________________\n",
      "max_pooling2d (MaxPooling2D) (None, 12, 12, 32)        0         \n",
      "_________________________________________________________________\n",
      "conv2d_1 (Conv2D)            (None, 9, 9, 32)          16416     \n",
      "_________________________________________________________________\n",
      "max_pooling2d_1 (MaxPooling2 (None, 4, 4, 32)          0         \n",
      "_________________________________________________________________\n",
      "flatten_1 (Flatten)          (None, 512)               0         \n",
      "_________________________________________________________________\n",
      "dense_2 (Dense)              (None, 128)               65664     \n",
      "_________________________________________________________________\n",
      "dense_3 (Dense)              (None, 10)                1290      \n",
      "=================================================================\n",
      "Total params: 83,914\n",
      "Trainable params: 83,914\n",
      "Non-trainable params: 0\n",
      "_________________________________________________________________\n"
     ]
    }
   ],
   "metadata": {}
  },
  {
   "cell_type": "markdown",
   "source": [
    "### Training the Model"
   ],
   "metadata": {}
  },
  {
   "cell_type": "code",
   "execution_count": 12,
   "source": [
    "early_stopping_callback = tf.keras.callbacks.EarlyStopping(\r\n",
    "    monitor='val_sparse_categorical_accuracy',\r\n",
    "    mode='max',\r\n",
    "    patience=3,\r\n",
    "    restore_best_weights=True\r\n",
    ")\r\n",
    "cnn_history = cnn_model.fit(\r\n",
    "    cnn_train_ds,\r\n",
    "    callbacks=[early_stopping_callback],\r\n",
    "    epochs=100,\r\n",
    "    validation_data=cnn_test_ds\r\n",
    ")"
   ],
   "outputs": [
    {
     "output_type": "stream",
     "name": "stdout",
     "text": [
      "Epoch 1/100\n",
      "469/469 [==============================] - 5s 4ms/step - loss: 0.3287 - sparse_categorical_accuracy: 0.9082 - val_loss: 0.1010 - val_sparse_categorical_accuracy: 0.9697\n",
      "Epoch 2/100\n",
      "469/469 [==============================] - 2s 4ms/step - loss: 0.0891 - sparse_categorical_accuracy: 0.9731 - val_loss: 0.0657 - val_sparse_categorical_accuracy: 0.9801\n",
      "Epoch 3/100\n",
      "469/469 [==============================] - 2s 4ms/step - loss: 0.0644 - sparse_categorical_accuracy: 0.9806 - val_loss: 0.0494 - val_sparse_categorical_accuracy: 0.9845\n",
      "Epoch 4/100\n",
      "469/469 [==============================] - 2s 4ms/step - loss: 0.0513 - sparse_categorical_accuracy: 0.9844 - val_loss: 0.0417 - val_sparse_categorical_accuracy: 0.9877\n",
      "Epoch 5/100\n",
      "469/469 [==============================] - 2s 4ms/step - loss: 0.0422 - sparse_categorical_accuracy: 0.9873 - val_loss: 0.0412 - val_sparse_categorical_accuracy: 0.9872\n",
      "Epoch 6/100\n",
      "469/469 [==============================] - 2s 4ms/step - loss: 0.0360 - sparse_categorical_accuracy: 0.9890 - val_loss: 0.0338 - val_sparse_categorical_accuracy: 0.9880\n",
      "Epoch 7/100\n",
      "469/469 [==============================] - 2s 4ms/step - loss: 0.0316 - sparse_categorical_accuracy: 0.9898 - val_loss: 0.0363 - val_sparse_categorical_accuracy: 0.9886\n",
      "Epoch 8/100\n",
      "469/469 [==============================] - 2s 4ms/step - loss: 0.0277 - sparse_categorical_accuracy: 0.9918 - val_loss: 0.0336 - val_sparse_categorical_accuracy: 0.9889\n",
      "Epoch 9/100\n",
      "469/469 [==============================] - 2s 4ms/step - loss: 0.0245 - sparse_categorical_accuracy: 0.9921 - val_loss: 0.0287 - val_sparse_categorical_accuracy: 0.9904\n",
      "Epoch 10/100\n",
      "469/469 [==============================] - 2s 4ms/step - loss: 0.0211 - sparse_categorical_accuracy: 0.9932 - val_loss: 0.0277 - val_sparse_categorical_accuracy: 0.9907\n",
      "Epoch 11/100\n",
      "469/469 [==============================] - 2s 4ms/step - loss: 0.0180 - sparse_categorical_accuracy: 0.9944 - val_loss: 0.0295 - val_sparse_categorical_accuracy: 0.9894\n",
      "Epoch 12/100\n",
      "469/469 [==============================] - 2s 4ms/step - loss: 0.0167 - sparse_categorical_accuracy: 0.9947 - val_loss: 0.0301 - val_sparse_categorical_accuracy: 0.9903\n",
      "Epoch 13/100\n",
      "469/469 [==============================] - 2s 4ms/step - loss: 0.0139 - sparse_categorical_accuracy: 0.9957 - val_loss: 0.0332 - val_sparse_categorical_accuracy: 0.9897\n"
     ]
    }
   ],
   "metadata": {}
  },
  {
   "cell_type": "markdown",
   "source": [
    "### Plotting the Training Results"
   ],
   "metadata": {}
  },
  {
   "cell_type": "code",
   "execution_count": 15,
   "source": [
    "plt.figure()\r\n",
    "plt.plot(cnn_history.history['sparse_categorical_accuracy'], label='Training Accuracy')\r\n",
    "plt.plot(cnn_history.history['val_sparse_categorical_accuracy'], label='Validation Accuracy')\r\n",
    "plt.legend()\r\n",
    "plt.title('Training')\r\n",
    "plt.xlabel('Epochs')\r\n",
    "plt.ylabel('Accuracy')\r\n",
    "plt.show()"
   ],
   "outputs": [
    {
     "output_type": "display_data",
     "data": {
      "text/plain": [
       "<Figure size 432x288 with 1 Axes>"
      ],
      "image/png": "[encoded data removed]"
     },
     "metadata": {
      "needs_background": "light"
     }
    }
   ],
   "metadata": {}
  },
  {
   "cell_type": "markdown",
   "source": [
    "### Saving the Best CNN Model"
   ],
   "metadata": {}
  },
  {
   "cell_type": "code",
   "execution_count": 14,
   "source": [
    "save_best_model(cnn_model, 'CNN', cnn_test_ds)"
   ],
   "outputs": [
    {
     "output_type": "stream",
     "name": "stdout",
     "text": [
      "79/79 [==============================] - 0s 3ms/step - loss: 0.0247 - sparse_categorical_accuracy: 0.9935\n",
      "79/79 [==============================] - 0s 2ms/step - loss: 0.0277 - sparse_categorical_accuracy: 0.9907\n"
     ]
    }
   ],
   "metadata": {}
  },
  {
   "cell_type": "markdown",
   "source": [
    "As can be seen above, the best model currently achieves 99.35% accuracy on the validation set"
   ],
   "metadata": {}
  }
 ],
 "metadata": {
  "kernelspec": {
   "name": "python3",
   "display_name": "Python 3.9.1 64-bit ('base': conda)"
  },
  "language_info": {
   "codemirror_mode": {
    "name": "ipython",
    "version": 3
   },
   "file_extension": ".py",
   "mimetype": "text/x-python",
   "name": "python",
   "nbconvert_exporter": "python",
   "pygments_lexer": "ipython3",
   "version": "3.9.1"
  },
  "interpreter": {
   "hash": "17e5ad908d28e97269e26b3cbc878f717c254511a9ca6820692befee122be5e1"
  }
 },
 "nbformat": 4,
 "nbformat_minor": 5
}