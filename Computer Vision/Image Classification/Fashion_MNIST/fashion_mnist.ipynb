{
 "cells": [
  {
   "cell_type": "markdown",
   "source": [
    "# Fashion MNIST Dataset ML"
   ],
   "metadata": {}
  },
  {
   "cell_type": "markdown",
   "source": [
    "This dataset contains images of 10 different types of clothing. The goal is to build a classifier that can distinguish between the different types."
   ],
   "metadata": {}
  },
  {
   "cell_type": "markdown",
   "source": [
    "## Imports"
   ],
   "metadata": {}
  },
  {
   "cell_type": "code",
   "execution_count": 21,
   "source": [
    "import json\r\n",
    "import keras_tuner as kt\r\n",
    "import matplotlib.pyplot as plt\r\n",
    "import tensorflow as tf\r\n",
    "from tensorflow_datasets import load, show_examples"
   ],
   "outputs": [],
   "metadata": {}
  },
  {
   "cell_type": "markdown",
   "source": [
    "## Loading the Dataset"
   ],
   "metadata": {}
  },
  {
   "cell_type": "code",
   "execution_count": 39,
   "source": [
    "(train_ds, test_ds), ds_info = load('fashion_mnist', split=['train', 'test'], as_supervised=True, with_info=True)\r\n",
    "print(f'Number of Training Examples: {ds_info.splits[\"train\"].num_examples}')\r\n",
    "print(f'Number of Testing Examples: {ds_info.splits[\"test\"].num_examples}')\r\n",
    "print('Sample Images:')\r\n",
    "fig = show_examples(train_ds, ds_info)\r\n"
   ],
   "outputs": [
    {
     "output_type": "stream",
     "name": "stdout",
     "text": [
      "Number of Training Examples: 60000\n",
      "Number of Testing Examples: 10000\n",
      "Sample Images:\n"
     ]
    },
    {
     "output_type": "display_data",
     "data": {
      "text/plain": [
       "<Figure size 648x648 with 9 Axes>"
      ],
      "image/png": "[encoded data removed]"
     },
     "metadata": {}
    }
   ],
   "metadata": {}
  },
  {
   "cell_type": "markdown",
   "source": [
    "### Helper Function to Save our Best Model"
   ],
   "metadata": {}
  },
  {
   "cell_type": "code",
   "execution_count": 49,
   "source": [
    "def save_best_model(model, test_ds):\r\n",
    "    try:\r\n",
    "        saved_model = tf.keras.models.load_model('models\\\\CNN')\r\n",
    "    except:\r\n",
    "        saved_model = None\r\n",
    "\r\n",
    "    if saved_model:\r\n",
    "        saved_model_metrics = saved_model.evaluate(test_ds, return_dict=True)\r\n",
    "        new_model_metrics = model.evaluate(test_ds, return_dict=True)\r\n",
    "        if new_model_metrics['sparse_categorical_accuracy'] > saved_model_metrics['sparse_categorical_accuracy']:\r\n",
    "            model.save('models\\\\CNN')\r\n",
    "    else:\r\n",
    "        model.save('models\\\\CNN')"
   ],
   "outputs": [],
   "metadata": {}
  },
  {
   "cell_type": "markdown",
   "source": [
    "## Preparing the Dataset"
   ],
   "metadata": {}
  },
  {
   "cell_type": "code",
   "execution_count": 41,
   "source": [
    "def cnn_normalize_image(image, label):\r\n",
    "    image = tf.cast(image, tf.float32)\r\n",
    "    return image, label\r\n",
    "\r\n",
    "batch_size = 32\r\n",
    "\r\n",
    "train_ds = train_ds.map(cnn_normalize_image, num_parallel_calls=tf.data.AUTOTUNE)\r\n",
    "train_ds = train_ds.cache()\r\n",
    "train_ds = train_ds.shuffle(5000)\r\n",
    "train_ds = train_ds.batch(batch_size)\r\n",
    "train_ds = train_ds.prefetch(1)\r\n",
    "\r\n",
    "test_ds = test_ds.map(cnn_normalize_image, num_parallel_calls=tf.data.AUTOTUNE)\r\n",
    "test_ds = test_ds.cache()\r\n",
    "test_ds = test_ds.batch(batch_size)\r\n",
    "test_ds = test_ds.prefetch(1)\r\n"
   ],
   "outputs": [],
   "metadata": {}
  },
  {
   "cell_type": "markdown",
   "source": [
    "## Building the Model"
   ],
   "metadata": {}
  },
  {
   "cell_type": "code",
   "execution_count": 42,
   "source": [
    "model = tf.keras.Sequential([\r\n",
    "    tf.keras.layers.Conv2D(32, 4, activation='relu', input_shape=(28, 28, 1)),\r\n",
    "    tf.keras.layers.MaxPool2D(),\r\n",
    "    tf.keras.layers.Conv2D(32, 4, activation='relu'),\r\n",
    "    tf.keras.layers.MaxPool2D(),\r\n",
    "    tf.keras.layers.Flatten(),\r\n",
    "    tf.keras.layers.Dense(128, activation='relu'),\r\n",
    "    tf.keras.layers.Dense(10)\r\n",
    "])\r\n",
    "model.compile(\r\n",
    "    loss=tf.keras.losses.SparseCategoricalCrossentropy(from_logits=True),\r\n",
    "    metrics=[tf.keras.metrics.SparseCategoricalAccuracy()],\r\n",
    "    optimizer=tf.keras.optimizers.Adam(),\r\n",
    ")\r\n",
    "model.summary()"
   ],
   "outputs": [
    {
     "output_type": "stream",
     "name": "stdout",
     "text": [
      "Model: \"sequential_3\"\n",
      "_________________________________________________________________\n",
      "Layer (type)                 Output Shape              Param #   \n",
      "=================================================================\n",
      "conv2d_6 (Conv2D)            (None, 25, 25, 32)        544       \n",
      "_________________________________________________________________\n",
      "max_pooling2d_6 (MaxPooling2 (None, 12, 12, 32)        0         \n",
      "_________________________________________________________________\n",
      "conv2d_7 (Conv2D)            (None, 9, 9, 32)          16416     \n",
      "_________________________________________________________________\n",
      "max_pooling2d_7 (MaxPooling2 (None, 4, 4, 32)          0         \n",
      "_________________________________________________________________\n",
      "flatten_3 (Flatten)          (None, 512)               0         \n",
      "_________________________________________________________________\n",
      "dense_6 (Dense)              (None, 128)               65664     \n",
      "_________________________________________________________________\n",
      "dense_7 (Dense)              (None, 10)                1290      \n",
      "=================================================================\n",
      "Total params: 83,914\n",
      "Trainable params: 83,914\n",
      "Non-trainable params: 0\n",
      "_________________________________________________________________\n"
     ]
    }
   ],
   "metadata": {}
  },
  {
   "cell_type": "markdown",
   "source": [
    "## Training the Model"
   ],
   "metadata": {}
  },
  {
   "cell_type": "code",
   "execution_count": 43,
   "source": [
    "early_stopping_callback = tf.keras.callbacks.EarlyStopping(\r\n",
    "    patience=3,\r\n",
    "    monitor='val_sparse_categorical_accuracy',\r\n",
    "    mode='max',\r\n",
    "    restore_best_weights=True\r\n",
    ")\r\n",
    "history = model.fit(\r\n",
    "    train_ds,\r\n",
    "    callbacks=[early_stopping_callback],\r\n",
    "    epochs=100,\r\n",
    "    validation_data=test_ds\r\n",
    ")"
   ],
   "outputs": [
    {
     "output_type": "stream",
     "name": "stdout",
     "text": [
      "Epoch 1/100\n",
      "1875/1875 [==============================] - 8s 4ms/step - loss: 0.6704 - sparse_categorical_accuracy: 0.8014 - val_loss: 0.4377 - val_sparse_categorical_accuracy: 0.8434\n",
      "Epoch 2/100\n",
      "1875/1875 [==============================] - 7s 4ms/step - loss: 0.3757 - sparse_categorical_accuracy: 0.8621 - val_loss: 0.3790 - val_sparse_categorical_accuracy: 0.8595\n",
      "Epoch 3/100\n",
      "1875/1875 [==============================] - 7s 4ms/step - loss: 0.3402 - sparse_categorical_accuracy: 0.8748 - val_loss: 0.3775 - val_sparse_categorical_accuracy: 0.8678\n",
      "Epoch 4/100\n",
      "1875/1875 [==============================] - 7s 4ms/step - loss: 0.3147 - sparse_categorical_accuracy: 0.8834 - val_loss: 0.3815 - val_sparse_categorical_accuracy: 0.8692\n",
      "Epoch 5/100\n",
      "1875/1875 [==============================] - 7s 3ms/step - loss: 0.2950 - sparse_categorical_accuracy: 0.8904 - val_loss: 0.3388 - val_sparse_categorical_accuracy: 0.8768\n",
      "Epoch 6/100\n",
      "1875/1875 [==============================] - 7s 4ms/step - loss: 0.2806 - sparse_categorical_accuracy: 0.8944 - val_loss: 0.3456 - val_sparse_categorical_accuracy: 0.8768\n",
      "Epoch 7/100\n",
      "1875/1875 [==============================] - 7s 4ms/step - loss: 0.2639 - sparse_categorical_accuracy: 0.9007 - val_loss: 0.3564 - val_sparse_categorical_accuracy: 0.8795\n",
      "Epoch 8/100\n",
      "1875/1875 [==============================] - 7s 4ms/step - loss: 0.2512 - sparse_categorical_accuracy: 0.9047 - val_loss: 0.3427 - val_sparse_categorical_accuracy: 0.8824\n",
      "Epoch 9/100\n",
      "1875/1875 [==============================] - 7s 4ms/step - loss: 0.2422 - sparse_categorical_accuracy: 0.9069 - val_loss: 0.3899 - val_sparse_categorical_accuracy: 0.8750\n",
      "Epoch 10/100\n",
      "1875/1875 [==============================] - 7s 4ms/step - loss: 0.2328 - sparse_categorical_accuracy: 0.9132 - val_loss: 0.3781 - val_sparse_categorical_accuracy: 0.8796\n",
      "Epoch 11/100\n",
      "1875/1875 [==============================] - 7s 4ms/step - loss: 0.2252 - sparse_categorical_accuracy: 0.9146 - val_loss: 0.4341 - val_sparse_categorical_accuracy: 0.8657\n"
     ]
    }
   ],
   "metadata": {}
  },
  {
   "cell_type": "markdown",
   "source": [
    "## Plot the Training Results"
   ],
   "metadata": {}
  },
  {
   "cell_type": "code",
   "execution_count": 44,
   "source": [
    "plt.figure()\r\n",
    "plt.plot(history.history['sparse_categorical_accuracy'], label='Training Accuracy')\r\n",
    "plt.plot(history.history['val_sparse_categorical_accuracy'], label='Validation Accuracy')\r\n",
    "plt.legend()\r\n",
    "plt.title('Training')\r\n",
    "plt.xlabel('Epochs')\r\n",
    "plt.ylabel('Accuracy')\r\n",
    "plt.show()"
   ],
   "outputs": [
    {
     "output_type": "display_data",
     "data": {
      "text/plain": [
       "<Figure size 432x288 with 1 Axes>"
      ],
      "image/png": "[encoded data removed]"
     },
     "metadata": {
      "needs_background": "light"
     }
    }
   ],
   "metadata": {}
  },
  {
   "cell_type": "markdown",
   "source": [
    "## Save our Best Model"
   ],
   "metadata": {}
  },
  {
   "cell_type": "code",
   "execution_count": 45,
   "source": [
    "save_best_model(model, test_ds)"
   ],
   "outputs": [
    {
     "output_type": "stream",
     "name": "stdout",
     "text": [
      "313/313 [==============================] - 1s 2ms/step - loss: 82.1954 - sparse_categorical_accuracy: 0.7735\n",
      "313/313 [==============================] - 1s 2ms/step - loss: 0.3427 - sparse_categorical_accuracy: 0.8824\n",
      "INFO:tensorflow:Assets written to: CNN\\assets\n"
     ]
    },
    {
     "output_type": "stream",
     "name": "stderr",
     "text": [
      "INFO:tensorflow:Assets written to: CNN\\assets\n"
     ]
    }
   ],
   "metadata": {}
  },
  {
   "cell_type": "markdown",
   "source": [
    "## Using the Hyperparameter Tuner"
   ],
   "metadata": {}
  },
  {
   "cell_type": "code",
   "execution_count": 73,
   "source": [
    "def build_model(hp):\r\n",
    "    model = tf.keras.Sequential()\r\n",
    "    first_layer_filters = hp.Choice('first_layer_filters', [32, 64, 128])\r\n",
    "    first_layer_kernel = hp.Choice('first_layer_kernel', [3, 4, 5])\r\n",
    "    model.add(tf.keras.layers.Conv2D(first_layer_filters, first_layer_kernel, activation='relu', input_shape=(28, 28, 1)))\r\n",
    "    model.add(tf.keras.layers.MaxPool2D())\r\n",
    "    second_layer_filters = hp.Choice('second_layer_filters', [32, 64, 128])\r\n",
    "    second_layer_kernel = hp.Choice('second_layer_kernel', [3, 4, 5])\r\n",
    "    model.add(tf.keras.layers.Conv2D(second_layer_filters, second_layer_kernel, activation='relu'))\r\n",
    "    model.add(tf.keras.layers.MaxPool2D())\r\n",
    "    model.add(tf.keras.layers.Flatten())\r\n",
    "    if hp.Choice('extra_dense_layer', [True, False]):\r\n",
    "        model.add(tf.keras.layers.Dense(128, activation='relu'))\r\n",
    "    model.add(tf.keras.layers.Dense(10))\r\n",
    "    learning_rate = hp.Choice('learning_rate', [0.005, 0.001, 0.0005, 0.0001])\r\n",
    "    model.compile(\r\n",
    "        loss=tf.keras.losses.SparseCategoricalCrossentropy(from_logits=True),\r\n",
    "        metrics=[tf.keras.metrics.SparseCategoricalAccuracy()],\r\n",
    "        optimizer=tf.keras.optimizers.Adam(learning_rate)\r\n",
    "    )\r\n",
    "    return model\r\n",
    "\r\n",
    "with open('../../../secrets.json') as f:\r\n",
    "    secrets = json.load(f)\r\n",
    "    hp_tuning_directory = secrets['hp_tuning_directory']\r\n",
    "early_stopping_callback = tf.keras.callbacks.EarlyStopping(\r\n",
    "    patience=3,\r\n",
    "    monitor='val_sparse_categorical_accuracy',\r\n",
    "    mode='max',\r\n",
    "    restore_best_weights=True\r\n",
    ")\r\n",
    "tuner = kt.Hyperband(build_model, 'val_sparse_categorical_accuracy', 25, directory=hp_tuning_directory, hyperband_iterations=2, overwrite=True, project_name='hp_tuning')\r\n",
    "tuner.search(train_ds, callbacks=[early_stopping_callback], validation_data=test_ds)\r\n",
    "tuner.results_summary(num_trials=3) # Show only the 3 best trials\r\n",
    "best_hps = tuner.get_best_hyperparameters()[0]\r\n",
    "best_model = tuner.get_best_models()[0]"
   ],
   "outputs": [
    {
     "output_type": "stream",
     "name": "stdout",
     "text": [
      "Trial 60 Complete [00h 01m 02s]\n",
      "val_sparse_categorical_accuracy: 0.8903999924659729\n",
      "\n",
      "Best val_sparse_categorical_accuracy So Far: 0.90829998254776\n",
      "Total elapsed time: 00h 48m 34s\n",
      "INFO:tensorflow:Oracle triggered exit\n"
     ]
    },
    {
     "output_type": "stream",
     "name": "stderr",
     "text": [
      "INFO:tensorflow:Oracle triggered exit\n"
     ]
    },
    {
     "output_type": "stream",
     "name": "stdout",
     "text": [
      "Results summary\n",
      "Results in .\\hyperparameter_tuning\n",
      "Showing 3 best trials\n",
      "Objective(name='val_sparse_categorical_accuracy', direction='max')\n",
      "Trial summary\n",
      "Hyperparameters:\n",
      "first_layer_filters: 32\n",
      "first_layer_kernel: 4\n",
      "second_layer_filters: 128\n",
      "second_layer_kernel: 3\n",
      "extra_dense_layer: 1\n",
      "learning_rate: 0.0005\n",
      "tuner/epochs: 25\n",
      "tuner/initial_epoch: 9\n",
      "tuner/bracket: 2\n",
      "tuner/round: 2\n",
      "tuner/trial_id: 9d6553642250275ede72e3d5d2a7d6b4\n",
      "Score: 0.90829998254776\n",
      "Trial summary\n",
      "Hyperparameters:\n",
      "first_layer_filters: 64\n",
      "first_layer_kernel: 5\n",
      "second_layer_filters: 128\n",
      "second_layer_kernel: 5\n",
      "extra_dense_layer: 1\n",
      "learning_rate: 0.0005\n",
      "tuner/epochs: 25\n",
      "tuner/initial_epoch: 9\n",
      "tuner/bracket: 1\n",
      "tuner/round: 1\n",
      "tuner/trial_id: d8312c325d59357abdfefa118d896bdd\n",
      "Score: 0.9060999751091003\n",
      "Trial summary\n",
      "Hyperparameters:\n",
      "first_layer_filters: 128\n",
      "first_layer_kernel: 3\n",
      "second_layer_filters: 128\n",
      "second_layer_kernel: 5\n",
      "extra_dense_layer: 1\n",
      "learning_rate: 0.0005\n",
      "tuner/epochs: 25\n",
      "tuner/initial_epoch: 9\n",
      "tuner/bracket: 1\n",
      "tuner/round: 1\n",
      "tuner/trial_id: fefcc9d8944ad82f5b121cfb45789b4c\n",
      "Score: 0.9021000266075134\n"
     ]
    }
   ],
   "metadata": {}
  },
  {
   "cell_type": "markdown",
   "source": [
    "## Saving the Best Model"
   ],
   "metadata": {}
  },
  {
   "cell_type": "code",
   "execution_count": 74,
   "source": [
    "save_best_model(best_model, test_ds)"
   ],
   "outputs": [
    {
     "output_type": "stream",
     "name": "stdout",
     "text": [
      "313/313 [==============================] - 1s 2ms/step - loss: 0.3073 - sparse_categorical_accuracy: 0.9033\n",
      "313/313 [==============================] - 1s 2ms/step - loss: 0.3018 - sparse_categorical_accuracy: 0.9083\n",
      "INFO:tensorflow:Assets written to: CNN\\assets\n"
     ]
    },
    {
     "output_type": "stream",
     "name": "stderr",
     "text": [
      "INFO:tensorflow:Assets written to: CNN\\assets\n"
     ]
    }
   ],
   "metadata": {}
  },
  {
   "cell_type": "markdown",
   "source": [
    "As can be seen above, the best classifier currently achieves 90.83% accuracy on the test set"
   ],
   "metadata": {}
  }
 ],
 "metadata": {
  "orig_nbformat": 4,
  "language_info": {
   "name": "python",
   "version": "3.9.1",
   "mimetype": "text/x-python",
   "codemirror_mode": {
    "name": "ipython",
    "version": 3
   },
   "pygments_lexer": "ipython3",
   "nbconvert_exporter": "python",
   "file_extension": ".py"
  },
  "kernelspec": {
   "name": "python3",
   "display_name": "Python 3.9.1 64-bit ('base': conda)"
  },
  "interpreter": {
   "hash": "17e5ad908d28e97269e26b3cbc878f717c254511a9ca6820692befee122be5e1"
  }
 },
 "nbformat": 4,
 "nbformat_minor": 2
}